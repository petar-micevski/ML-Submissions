{
 "cells": [
  {
   "cell_type": "code",
   "execution_count": 192,
   "id": "32cc9565",
   "metadata": {},
   "outputs": [
    {
     "name": "stdout",
     "output_type": "stream",
     "text": [
      "Index(['Forrest Gump (1994)', 'Shawshank Redemption, The (1994)',\n",
      "       'Pulp Fiction (1994)', 'Silence of the Lambs, The (1991)',\n",
      "       'Matrix, The (1999)'],\n",
      "      dtype='object')\n",
      "   movieId                               title  \\\n",
      "0        1                    Toy Story (1995)   \n",
      "1        2                      Jumanji (1995)   \n",
      "2        3             Grumpier Old Men (1995)   \n",
      "3        4            Waiting to Exhale (1995)   \n",
      "4        5  Father of the Bride Part II (1995)   \n",
      "\n",
      "                                        genres  \n",
      "0  Adventure|Animation|Children|Comedy|Fantasy  \n",
      "1                   Adventure|Children|Fantasy  \n",
      "2                               Comedy|Romance  \n",
      "3                         Comedy|Drama|Romance  \n",
      "4                                       Comedy  \n"
     ]
    }
   ],
   "source": [
    "# Petar Micevski\n",
    "# Professor Avirappattu\n",
    "# DASC 8211WA\n",
    "# May 18th, 2022\n",
    "#--------------------------------------------------------------\n",
    "\n",
    "import pandas as pd \n",
    "import numpy as np\n",
    "\n",
    "from itertools import permutations # For permutation function in popular movies section\n",
    "from scipy.sparse.linalg import svds # For Matrix Factorization (SVD)\n",
    "from sklearn.metrics import mean_squared_error # For evaluating engine\n",
    "\n",
    "\n",
    "# Reading in the csv files we will use to make the recommendation engines\n",
    "movie_genre_df = pd.read_csv('~\\\\Jupyter Notebooks\\\\CSV Files\\\\movies.csv')\n",
    "user_ratings_df = pd.read_csv('~\\\\Jupyter Notebooks\\\\CSV Files\\\\user_ratings.csv')\n",
    "\n",
    "\n",
    "\n",
    "\n",
    "# Get the counts of occurrences of each movie title\n",
    "movie_popularity = user_ratings_df['title'].value_counts()\n",
    "\n",
    "# Inspect the most common values\n",
    "print(movie_popularity.head().index)\n",
    "print(movie_genre_df.head())"
   ]
  },
  {
   "cell_type": "code",
   "execution_count": 193,
   "id": "691df710",
   "metadata": {},
   "outputs": [
    {
     "name": "stdout",
     "output_type": "stream",
     "text": [
      "                                     rating\n",
      "title                                      \n",
      "Gena the Crocodile (1969)               5.0\n",
      "True Stories (1986)                     5.0\n",
      "Cosmic Scrat-tastrophe (2015)           5.0\n",
      "Love and Pigeons (1985)                 5.0\n",
      "Red Sorghum (Hong gao liang) (1987)     5.0\n",
      "                                                      rating\n",
      "title                                                       \n",
      "Shawshank Redemption, The (1994)                    4.429022\n",
      "Godfather, The (1972)                               4.289062\n",
      "Fight Club (1999)                                   4.272936\n",
      "Cool Hand Luke (1967)                               4.271930\n",
      "Dr. Strangelove or: How I Learned to Stop Worry...  4.268041\n"
     ]
    }
   ],
   "source": [
    "# Finds the mean of the ratings given to each title\n",
    "average_rating_df = user_ratings_df[[\"title\", \"rating\"]].groupby('title').mean()\n",
    "\n",
    "# Orders the entries by highest average rating to lowest\n",
    "sorted_average_ratings = average_rating_df.sort_values(by=\"rating\", ascending=False)\n",
    "\n",
    "# Inspects the top movies\n",
    "print(sorted_average_ratings.head())\n",
    "\n",
    "\n",
    "\n",
    "\n",
    "\n",
    "# Creates a list of only movies appearing > 50 times in the dataset\n",
    "movie_popularity = user_ratings_df[\"title\"].value_counts()\n",
    "popular_movies = movie_popularity[movie_popularity > 50].index\n",
    "\n",
    "# Uses this popular_movies list to filter the original DataFrame\n",
    "popular_movies_rankings =  user_ratings_df[user_ratings_df[\"title\"].isin(popular_movies)]\n",
    "\n",
    "# Finds the average rating given to these frequently watched films\n",
    "popular_movies_average_rankings = popular_movies_rankings[[\"title\", \"rating\"]].groupby('title').mean()\n",
    "print(popular_movies_average_rankings.sort_values(by=\"rating\", ascending=False).head())"
   ]
  },
  {
   "cell_type": "code",
   "execution_count": 194,
   "id": "c5f51dba",
   "metadata": {},
   "outputs": [
    {
     "name": "stdout",
     "output_type": "stream",
     "text": [
      "                   movie_a                           movie_b\n",
      "0         Toy Story (1995)           Grumpier Old Men (1995)\n",
      "1         Toy Story (1995)                       Heat (1995)\n",
      "2         Toy Story (1995)       Seven (a.k.a. Se7en) (1995)\n",
      "3         Toy Story (1995)        Usual Suspects, The (1995)\n",
      "4         Toy Story (1995)        From Dusk Till Dawn (1996)\n",
      "...                    ...                               ...\n",
      "60793295         31 (2016)                 Gen-X Cops (1999)\n",
      "60793296         31 (2016)                  Bloodmoon (1997)\n",
      "60793297         31 (2016)  Sympathy for the Underdog (1971)\n",
      "60793298         31 (2016)                     Hazard (2005)\n",
      "60793299         31 (2016)                Blair Witch (2016)\n",
      "\n",
      "[60793300 rows x 2 columns]\n",
      "      movie_a                                     movie_b  size\n",
      "0  '71 (2014)                 (500) Days of Summer (2009)     1\n",
      "1  '71 (2014)                  10 Cloverfield Lane (2016)     1\n",
      "2  '71 (2014)                            127 Hours (2010)     1\n",
      "3  '71 (2014)  13 Assassins (Jûsan-nin no shikaku) (2010)     1\n",
      "4  '71 (2014)                             13 Hours (2016)     1\n"
     ]
    }
   ],
   "source": [
    "# Non personalized suggestions and commonly paired movies by user\n",
    "\n",
    "\n",
    "# Create the function to find all permutations\n",
    "def find_movie_pairs(x):\n",
    "  pairs = pd.DataFrame(list(permutations(x.values, 2)),\n",
    "                       columns=['movie_a', 'movie_b'])\n",
    "  return pairs\n",
    "\n",
    "# Apply the function to the title column and reset the index\n",
    "movie_combinations = user_ratings_df.groupby('userId')['title'].apply(\n",
    "  find_movie_pairs).reset_index(drop=True)\n",
    "\n",
    "print(movie_combinations)\n",
    "\n",
    "\n",
    "\n",
    "\n",
    "\n",
    "# Calculate how often each item in movie_a occurs with the items in movie_b\n",
    "combination_counts = movie_combinations.groupby(['movie_a', 'movie_b']).size()\n",
    "\n",
    "# Convert the results to a DataFrame and reset the index\n",
    "combination_counts_df = combination_counts.to_frame(name='size').reset_index()\n",
    "print(combination_counts_df.head())"
   ]
  },
  {
   "cell_type": "code",
   "execution_count": 195,
   "id": "214e3b9d",
   "metadata": {},
   "outputs": [],
   "source": [
    "#Matrix Transformation and Engine Evaluation\n",
    "\n",
    "# Transform the table\n",
    "user_ratings_df = user_ratings.pivot_table(index='userId', columns='title', values='rating')"
   ]
  },
  {
   "cell_type": "code",
   "execution_count": 196,
   "id": "662b58aa",
   "metadata": {},
   "outputs": [],
   "source": [
    "# Get the average rating for each user \n",
    "avg_ratings = user_ratings_df.mean(axis=1)\n",
    "\n",
    "\n",
    "# Center each user's ratings around 0\n",
    "user_ratings_centered = user_ratings_df.sub(avg_ratings, axis=0)\n",
    "\n",
    "\n",
    "# Fill in all missing values with 0s\n",
    "user_ratings_centered.fillna(0, inplace=True)\n"
   ]
  },
  {
   "cell_type": "code",
   "execution_count": 197,
   "id": "8bdef373",
   "metadata": {},
   "outputs": [
    {
     "name": "stdout",
     "output_type": "stream",
     "text": [
      "(610, 9719)\n"
     ]
    }
   ],
   "source": [
    "print(user_ratings_centered.shape)"
   ]
  },
  {
   "cell_type": "code",
   "execution_count": 198,
   "id": "3de6c8a2",
   "metadata": {},
   "outputs": [],
   "source": [
    "# Decompose the matrix\n",
    "U, sigma, Vt = svds(user_ratings_centered)\n"
   ]
  },
  {
   "cell_type": "code",
   "execution_count": 199,
   "id": "1b845885",
   "metadata": {},
   "outputs": [
    {
     "name": "stdout",
     "output_type": "stream",
     "text": [
      "(610, 6)\n",
      "(6, 6)\n",
      "(6, 9719)\n"
     ]
    }
   ],
   "source": [
    "# Convert sigma to diagonal matrix\n",
    "sigma = np.diag(sigma)\n",
    "\n",
    "\n",
    "print(U.shape)\n",
    "print(sigma.shape)\n",
    "print(Vt.shape)"
   ]
  },
  {
   "cell_type": "code",
   "execution_count": 200,
   "id": "27ad2beb",
   "metadata": {},
   "outputs": [
    {
     "name": "stdout",
     "output_type": "stream",
     "text": [
      "title   '71 (2014)  'Hellboy': The Seeds of Creation (2004)  \\\n",
      "userId                                                        \n",
      "1         4.366758                                 4.366864   \n",
      "2         3.948463                                 3.948253   \n",
      "3         2.436697                                 2.435659   \n",
      "4         3.553547                                 3.556060   \n",
      "5         3.636042                                 3.636611   \n",
      "...            ...                                      ...   \n",
      "606       3.656747                                 3.660728   \n",
      "607       3.785770                                 3.786352   \n",
      "608       3.144360                                 3.135605   \n",
      "609       3.270412                                 3.270386   \n",
      "610       3.711661                                 3.689777   \n",
      "\n",
      "title   'Round Midnight (1986)  'Salem's Lot (2004)  \\\n",
      "userId                                                \n",
      "1                     4.366117             4.366425   \n",
      "2                     3.948293             3.948273   \n",
      "3                     2.435996             2.435841   \n",
      "4                     3.555342             3.555822   \n",
      "5                     3.636259             3.636443   \n",
      "...                        ...                  ...   \n",
      "606                   3.655946             3.658587   \n",
      "607                   3.785971             3.786110   \n",
      "608                   3.133463             3.134770   \n",
      "609                   3.270222             3.270283   \n",
      "610                   3.687856             3.688196   \n",
      "\n",
      "title   'Til There Was You (1997)  'Tis the Season for Love (2015)  \\\n",
      "userId                                                               \n",
      "1                        4.365874                         4.367775   \n",
      "2                        3.948342                         3.948062   \n",
      "3                        2.436166                         2.435715   \n",
      "4                        3.555180                         3.558750   \n",
      "5                        3.636168                         3.637921   \n",
      "...                           ...                              ...   \n",
      "606                      3.655294                         3.677603   \n",
      "607                      3.785747                         3.785805   \n",
      "608                      3.134419                         3.111664   \n",
      "609                      3.270184                         3.270291   \n",
      "610                      3.689744                         3.688704   \n",
      "\n",
      "title   'burbs, The (1989)  'night Mother (1986)  (500) Days of Summer (2009)  \\\n",
      "userId                                                                          \n",
      "1                 4.364110              4.365298                     4.399567   \n",
      "2                 3.949374              3.948554                     3.945010   \n",
      "3                 2.442690              2.438575                     2.420862   \n",
      "4                 3.493632              3.545681                     3.531246   \n",
      "5                 3.632567              3.635113                     3.639293   \n",
      "...                    ...                   ...                          ...   \n",
      "606               3.553893              3.638496                     3.686535   \n",
      "607               3.790275              3.784962                     3.821457   \n",
      "608               2.848560              3.096719                     3.385000   \n",
      "609               3.274371              3.270310                     3.280211   \n",
      "610               3.854924              3.727017                     3.730658   \n",
      "\n",
      "title   *batteries not included (1987)  ...  Zulu (2013)  [REC] (2007)  \\\n",
      "userId                                  ...                              \n",
      "1                             4.366379  ...     4.360731      4.365497   \n",
      "2                             3.948521  ...     3.946941      3.949843   \n",
      "3                             2.439383  ...     2.437677      2.441960   \n",
      "4                             3.544048  ...     3.528199      3.539657   \n",
      "5                             3.635552  ...     3.635141      3.632319   \n",
      "...                                ...  ...          ...           ...   \n",
      "606                           3.674837  ...     3.665024      3.630286   \n",
      "607                           3.787387  ...     3.796064      3.783058   \n",
      "608                           3.245631  ...     3.290693      3.227688   \n",
      "609                           3.271180  ...     3.272119      3.270756   \n",
      "610                           3.748153  ...     3.610995      3.832230   \n",
      "\n",
      "title   [REC]² (2009)  [REC]³ 3 Génesis (2012)  \\\n",
      "userId                                           \n",
      "1            4.367345                 4.366390   \n",
      "2            3.947476                 3.947203   \n",
      "3            2.432665                 2.431460   \n",
      "4            3.563222                 3.566525   \n",
      "5            3.638571                 3.639009   \n",
      "...               ...                      ...   \n",
      "606          3.673631                 3.673444   \n",
      "607          3.788082                 3.788376   \n",
      "608          3.091068                 3.072951   \n",
      "609          3.270232                 3.269929   \n",
      "610          3.619940                 3.581401   \n",
      "\n",
      "title   anohana: The Flower We Saw That Day - The Movie (2013)  \\\n",
      "userId                                                           \n",
      "1                                                4.366333        \n",
      "2                                                3.948247        \n",
      "3                                                2.435774        \n",
      "4                                                3.555780        \n",
      "5                                                3.636443        \n",
      "...                                                   ...        \n",
      "606                                              3.658190        \n",
      "607                                              3.786204        \n",
      "608                                              3.134055        \n",
      "609                                              3.270277        \n",
      "610                                              3.685319        \n",
      "\n",
      "title   eXistenZ (1999)  xXx (2002)  xXx: State of the Union (2005)  \\\n",
      "userId                                                                \n",
      "1              4.387607    4.335274                        4.357385   \n",
      "2              3.945910    3.945743                        3.946354   \n",
      "3              2.427541    2.436665                        2.430367   \n",
      "4              3.588758    3.542657                        3.579806   \n",
      "5              3.645666    3.635973                        3.638589   \n",
      "...                 ...         ...                             ...   \n",
      "606            3.796002    3.655214                        3.648094   \n",
      "607            3.794007    3.789866                        3.783980   \n",
      "608            3.219383    3.175218                        2.972337   \n",
      "609            3.271933    3.267224                        3.266534   \n",
      "610            3.670496    3.273834                        3.419045   \n",
      "\n",
      "title   ¡Three Amigos! (1986)  À nous la liberté (Freedom for Us) (1931)  \n",
      "userId                                                                    \n",
      "1                    4.346337                                   4.366739  \n",
      "2                    3.950818                                   3.948147  \n",
      "3                    2.441795                                   2.435349  \n",
      "4                    3.533643                                   3.557405  \n",
      "5                    3.627942                                   3.636997  \n",
      "...                       ...                                        ...  \n",
      "606                  3.530404                                   3.662434  \n",
      "607                  3.777680                                   3.786174  \n",
      "608                  3.070776                                   3.116531  \n",
      "609                  3.268473                                   3.270254  \n",
      "610                  3.692970                                   3.679074  \n",
      "\n",
      "[610 rows x 9719 columns]\n"
     ]
    }
   ],
   "source": [
    "# Dot product of U and sigma\n",
    "U_sigma = np.dot(U, sigma)\n",
    "\n",
    "\n",
    "# Dot product of result and Vt\n",
    "U_sigma_Vt = np.dot(U_sigma, Vt)\n",
    "\n",
    "\n",
    "# Add back on the row means contained in avg_ratings\n",
    "uncentered_ratings = U_sigma_Vt + avg_ratings.values.reshape(-1, 1)\n",
    "\n",
    "\n",
    "# Create DataFrame of the results\n",
    "calc_pred_ratings_df = pd.DataFrame(uncentered_ratings, index=user_ratings_df.index,\n",
    "                                    columns=user_ratings_df.columns\n",
    "                                   )\n",
    "# Print the recalculated matrix\n",
    "print(calc_pred_ratings_df)"
   ]
  },
  {
   "cell_type": "code",
   "execution_count": 201,
   "id": "c5f7845a",
   "metadata": {},
   "outputs": [
    {
     "name": "stdout",
     "output_type": "stream",
     "text": [
      "0.8967747616983752\n"
     ]
    }
   ],
   "source": [
    "# Comparison of actual values vs. predicted values from previous section\n",
    "# You have to do a \"split\" here, so the 20 and 100 is considered the split\n",
    "actual_values = user_ratings_df.iloc[:20, :100].values\n",
    "predicted_values = calc_pred_ratings_df.iloc[:20, :100].values\n",
    "\n",
    "# Creates a mask of actual_values to only look at the non-missing values in the ground truth\n",
    "mask = ~np.isnan(actual_values)\n",
    "\n",
    "# Prints the performance of the predictions\n",
    "print(mean_squared_error(actual_values[mask], predicted_values[mask], squared=False))\n",
    "\n",
    "# Output: 0.8967"
   ]
  }
 ],
 "metadata": {
  "kernelspec": {
   "display_name": "Python 3 (ipykernel)",
   "language": "python",
   "name": "python3"
  },
  "language_info": {
   "codemirror_mode": {
    "name": "ipython",
    "version": 3
   },
   "file_extension": ".py",
   "mimetype": "text/x-python",
   "name": "python",
   "nbconvert_exporter": "python",
   "pygments_lexer": "ipython3",
   "version": "3.9.7"
  }
 },
 "nbformat": 4,
 "nbformat_minor": 5
}
